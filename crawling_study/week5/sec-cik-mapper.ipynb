{
 "cells": [
  {
   "cell_type": "code",
   "execution_count": null,
   "metadata": {},
   "outputs": [],
   "source": [
    "!pip install -U sec-cik-mapper"
   ]
  },
  {
   "cell_type": "code",
   "execution_count": 55,
   "metadata": {},
   "outputs": [],
   "source": [
    "from sec_cik_mapper import StockMapper\n",
    "from pathlib import Path"
   ]
  },
  {
   "cell_type": "code",
   "execution_count": 56,
   "metadata": {},
   "outputs": [],
   "source": [
    "# stock mapper instance 생성\n",
    "mapper = StockMapper()"
   ]
  },
  {
   "cell_type": "code",
   "execution_count": 57,
   "metadata": {},
   "outputs": [
    {
     "data": {
      "text/html": [
       "<div>\n",
       "<style scoped>\n",
       "    .dataframe tbody tr th:only-of-type {\n",
       "        vertical-align: middle;\n",
       "    }\n",
       "\n",
       "    .dataframe tbody tr th {\n",
       "        vertical-align: top;\n",
       "    }\n",
       "\n",
       "    .dataframe thead th {\n",
       "        text-align: right;\n",
       "    }\n",
       "</style>\n",
       "<table border=\"1\" class=\"dataframe\">\n",
       "  <thead>\n",
       "    <tr style=\"text-align: right;\">\n",
       "      <th></th>\n",
       "      <th>CIK</th>\n",
       "      <th>Ticker</th>\n",
       "      <th>Name</th>\n",
       "      <th>Exchange</th>\n",
       "    </tr>\n",
       "  </thead>\n",
       "  <tbody>\n",
       "    <tr>\n",
       "      <th>0</th>\n",
       "      <td>0000001750</td>\n",
       "      <td>AIR</td>\n",
       "      <td>Aar Corp</td>\n",
       "      <td>NYSE</td>\n",
       "    </tr>\n",
       "    <tr>\n",
       "      <th>1</th>\n",
       "      <td>0000001800</td>\n",
       "      <td>ABT</td>\n",
       "      <td>Abbott Laboratories</td>\n",
       "      <td>NYSE</td>\n",
       "    </tr>\n",
       "    <tr>\n",
       "      <th>2</th>\n",
       "      <td>0000001961</td>\n",
       "      <td>WDDD</td>\n",
       "      <td>Worlds Inc</td>\n",
       "      <td>OTC</td>\n",
       "    </tr>\n",
       "    <tr>\n",
       "      <th>3</th>\n",
       "      <td>0000002098</td>\n",
       "      <td>ACU</td>\n",
       "      <td>Acme United Corp</td>\n",
       "      <td>NYSE</td>\n",
       "    </tr>\n",
       "    <tr>\n",
       "      <th>4</th>\n",
       "      <td>0000002178</td>\n",
       "      <td>AE</td>\n",
       "      <td>Adams Resources &amp; Energy, Inc.</td>\n",
       "      <td>NYSE</td>\n",
       "    </tr>\n",
       "    <tr>\n",
       "      <th>...</th>\n",
       "      <td>...</td>\n",
       "      <td>...</td>\n",
       "      <td>...</td>\n",
       "      <td>...</td>\n",
       "    </tr>\n",
       "    <tr>\n",
       "      <th>12157</th>\n",
       "      <td>0001913971</td>\n",
       "      <td>BPRN</td>\n",
       "      <td>Princeton Bancorp, Inc.</td>\n",
       "      <td>Nasdaq</td>\n",
       "    </tr>\n",
       "    <tr>\n",
       "      <th>12158</th>\n",
       "      <td>0001914605</td>\n",
       "      <td>ECBK</td>\n",
       "      <td>Ecb Bancorp, Inc. /Md/</td>\n",
       "      <td></td>\n",
       "    </tr>\n",
       "    <tr>\n",
       "      <th>12159</th>\n",
       "      <td>0001915328</td>\n",
       "      <td>ISRL</td>\n",
       "      <td>Israel Acquisitions Corp</td>\n",
       "      <td></td>\n",
       "    </tr>\n",
       "    <tr>\n",
       "      <th>12160</th>\n",
       "      <td>0001915657</td>\n",
       "      <td>DINO</td>\n",
       "      <td>Hf Sinclair Corp</td>\n",
       "      <td>NYSE</td>\n",
       "    </tr>\n",
       "    <tr>\n",
       "      <th>12161</th>\n",
       "      <td>0001915760</td>\n",
       "      <td>HMNTY</td>\n",
       "      <td>Hemnet Group Ab/Adr</td>\n",
       "      <td>OTC</td>\n",
       "    </tr>\n",
       "  </tbody>\n",
       "</table>\n",
       "<p>12162 rows × 4 columns</p>\n",
       "</div>"
      ],
      "text/plain": [
       "              CIK Ticker                            Name Exchange\n",
       "0      0000001750    AIR                        Aar Corp     NYSE\n",
       "1      0000001800    ABT             Abbott Laboratories     NYSE\n",
       "2      0000001961   WDDD                      Worlds Inc      OTC\n",
       "3      0000002098    ACU                Acme United Corp     NYSE\n",
       "4      0000002178     AE  Adams Resources & Energy, Inc.     NYSE\n",
       "...           ...    ...                             ...      ...\n",
       "12157  0001913971   BPRN         Princeton Bancorp, Inc.   Nasdaq\n",
       "12158  0001914605   ECBK          Ecb Bancorp, Inc. /Md/         \n",
       "12159  0001915328   ISRL        Israel Acquisitions Corp         \n",
       "12160  0001915657   DINO                Hf Sinclair Corp     NYSE\n",
       "12161  0001915760  HMNTY             Hemnet Group Ab/Adr      OTC\n",
       "\n",
       "[12162 rows x 4 columns]"
      ]
     },
     "execution_count": 57,
     "metadata": {},
     "output_type": "execute_result"
    }
   ],
   "source": [
    "# DataFrame 생성\n",
    "mapper = mapper.raw_dataframe\n",
    "# DataFrame 출력\n",
    "mapper"
   ]
  },
  {
   "cell_type": "code",
   "execution_count": 58,
   "metadata": {},
   "outputs": [
    {
     "data": {
      "image/png": "[encoded data removed]",
      "text/plain": [
       "<Figure size 540x252 with 1 Axes>"
      ]
     },
     "metadata": {
      "needs_background": "light"
     },
     "output_type": "display_data"
    }
   ],
   "source": [
    "import pandas as pd\n",
    "from matplotlib import pyplot as plt\n",
    "\n",
    "plt.rcParams[\"figure.figsize\"] = [7.50, 3.50]\n",
    "plt.rcParams[\"figure.autolayout\"] = True\n",
    "\n",
    "fig, ax = plt.subplots()\n",
    "\n",
    "mapper['Exchange'].value_counts().plot(ax=ax, kind='bar', xlabel='ticker', ylabel='freq')\n",
    "\n",
    "plt.show()"
   ]
  },
  {
   "cell_type": "code",
   "execution_count": 59,
   "metadata": {},
   "outputs": [
    {
     "data": {
      "text/plain": [
       "Nasdaq    5194\n",
       "NYSE      4108\n",
       "OTC       2053\n",
       "           790\n",
       "CBOE        17\n",
       "Name: Exchange, dtype: int64"
      ]
     },
     "execution_count": 59,
     "metadata": {},
     "output_type": "execute_result"
    }
   ],
   "source": [
    "mapper['Exchange'].value_counts()"
   ]
  },
  {
   "cell_type": "code",
   "execution_count": 60,
   "metadata": {},
   "outputs": [],
   "source": [
    "m_ticker = list(mapper['Ticker'])"
   ]
  },
  {
   "cell_type": "code",
   "execution_count": 61,
   "metadata": {},
   "outputs": [],
   "source": [
    "# import pandas as pd\n",
    "# 보내주신 자료의 ticker dataframe을 생성\n",
    "import pandas as pd\n",
    "ticker_df = pd.read_excel('./Members.xlsx', sheet_name='Sheet3', header=None)"
   ]
  },
  {
   "cell_type": "code",
   "execution_count": 62,
   "metadata": {},
   "outputs": [],
   "source": [
    "# 문자열에서 Ticker만 분리한다.\n",
    "# ex) AAME UQ \n",
    "ticker_df[0] = ticker_df[0].apply(lambda x: x.split(' ')[0])\n",
    "t_ticker = list(ticker_df[0])"
   ]
  },
  {
   "cell_type": "code",
   "execution_count": 63,
   "metadata": {},
   "outputs": [],
   "source": [
    "# 교집합\n",
    "intersection = list(set(t_ticker) & set(m_ticker))"
   ]
  },
  {
   "cell_type": "code",
   "execution_count": 64,
   "metadata": {},
   "outputs": [
    {
     "data": {
      "text/plain": [
       "4002"
      ]
     },
     "execution_count": 64,
     "metadata": {},
     "output_type": "execute_result"
    }
   ],
   "source": [
    "len(intersection)"
   ]
  },
  {
   "cell_type": "code",
   "execution_count": 65,
   "metadata": {},
   "outputs": [
    {
     "data": {
      "text/plain": [
       "['CRD/A',\n",
       " 'BF/B',\n",
       " 'LGF/B',\n",
       " 'HEI/A',\n",
       " 'GEF/B',\n",
       " 'HAAC',\n",
       " 'CWEN/A',\n",
       " 'LEN/B',\n",
       " 'JW/A',\n",
       " 'FRBA',\n",
       " 'MOG/A',\n",
       " 'BF/A',\n",
       " 'HIFS',\n",
       " 'BRK/B',\n",
       " 'LGF/A',\n",
       " 'ESBK']"
      ]
     },
     "execution_count": 65,
     "metadata": {},
     "output_type": "execute_result"
    }
   ],
   "source": [
    "# 차집합 \n",
    "list(set(t_ticker) - set(intersection))"
   ]
  },
  {
   "cell_type": "code",
   "execution_count": 66,
   "metadata": {},
   "outputs": [],
   "source": [
    "# 결과 저장\n",
    "\n",
    "result_df = mapper[mapper['Ticker'].isin(t_ticker)]"
   ]
  },
  {
   "cell_type": "code",
   "execution_count": 67,
   "metadata": {},
   "outputs": [
    {
     "data": {
      "text/html": [
       "<div>\n",
       "<style scoped>\n",
       "    .dataframe tbody tr th:only-of-type {\n",
       "        vertical-align: middle;\n",
       "    }\n",
       "\n",
       "    .dataframe tbody tr th {\n",
       "        vertical-align: top;\n",
       "    }\n",
       "\n",
       "    .dataframe thead th {\n",
       "        text-align: right;\n",
       "    }\n",
       "</style>\n",
       "<table border=\"1\" class=\"dataframe\">\n",
       "  <thead>\n",
       "    <tr style=\"text-align: right;\">\n",
       "      <th></th>\n",
       "      <th>CIK</th>\n",
       "      <th>Ticker</th>\n",
       "      <th>Name</th>\n",
       "      <th>Exchange</th>\n",
       "    </tr>\n",
       "  </thead>\n",
       "  <tbody>\n",
       "    <tr>\n",
       "      <th>0</th>\n",
       "      <td>0000001750</td>\n",
       "      <td>AIR</td>\n",
       "      <td>Aar Corp</td>\n",
       "      <td>NYSE</td>\n",
       "    </tr>\n",
       "    <tr>\n",
       "      <th>1</th>\n",
       "      <td>0000001800</td>\n",
       "      <td>ABT</td>\n",
       "      <td>Abbott Laboratories</td>\n",
       "      <td>NYSE</td>\n",
       "    </tr>\n",
       "    <tr>\n",
       "      <th>7</th>\n",
       "      <td>0000002488</td>\n",
       "      <td>AMD</td>\n",
       "      <td>Advanced Micro Devices Inc</td>\n",
       "      <td>Nasdaq</td>\n",
       "    </tr>\n",
       "    <tr>\n",
       "      <th>9</th>\n",
       "      <td>0000002969</td>\n",
       "      <td>APD</td>\n",
       "      <td>Air Products &amp; Chemicals Inc /De/</td>\n",
       "      <td>NYSE</td>\n",
       "    </tr>\n",
       "    <tr>\n",
       "      <th>16</th>\n",
       "      <td>0000003197</td>\n",
       "      <td>CECE</td>\n",
       "      <td>Ceco Environmental Corp</td>\n",
       "      <td>Nasdaq</td>\n",
       "    </tr>\n",
       "    <tr>\n",
       "      <th>...</th>\n",
       "      <td>...</td>\n",
       "      <td>...</td>\n",
       "      <td>...</td>\n",
       "      <td>...</td>\n",
       "    </tr>\n",
       "    <tr>\n",
       "      <th>12079</th>\n",
       "      <td>0001892322</td>\n",
       "      <td>HTCR</td>\n",
       "      <td>Heartcore Enterprises, Inc.</td>\n",
       "      <td>Nasdaq</td>\n",
       "    </tr>\n",
       "    <tr>\n",
       "      <th>12087</th>\n",
       "      <td>0001893219</td>\n",
       "      <td>ACAB</td>\n",
       "      <td>Atlantic Coastal Acquisition Corp. Ii</td>\n",
       "      <td>Nasdaq</td>\n",
       "    </tr>\n",
       "    <tr>\n",
       "      <th>12138</th>\n",
       "      <td>0001902733</td>\n",
       "      <td>NCNO</td>\n",
       "      <td>Ncino, Inc.</td>\n",
       "      <td>Nasdaq</td>\n",
       "    </tr>\n",
       "    <tr>\n",
       "      <th>12157</th>\n",
       "      <td>0001913971</td>\n",
       "      <td>BPRN</td>\n",
       "      <td>Princeton Bancorp, Inc.</td>\n",
       "      <td>Nasdaq</td>\n",
       "    </tr>\n",
       "    <tr>\n",
       "      <th>12160</th>\n",
       "      <td>0001915657</td>\n",
       "      <td>DINO</td>\n",
       "      <td>Hf Sinclair Corp</td>\n",
       "      <td>NYSE</td>\n",
       "    </tr>\n",
       "  </tbody>\n",
       "</table>\n",
       "<p>4002 rows × 4 columns</p>\n",
       "</div>"
      ],
      "text/plain": [
       "              CIK Ticker                                   Name Exchange\n",
       "0      0000001750    AIR                               Aar Corp     NYSE\n",
       "1      0000001800    ABT                    Abbott Laboratories     NYSE\n",
       "7      0000002488    AMD             Advanced Micro Devices Inc   Nasdaq\n",
       "9      0000002969    APD      Air Products & Chemicals Inc /De/     NYSE\n",
       "16     0000003197   CECE                Ceco Environmental Corp   Nasdaq\n",
       "...           ...    ...                                    ...      ...\n",
       "12079  0001892322   HTCR            Heartcore Enterprises, Inc.   Nasdaq\n",
       "12087  0001893219   ACAB  Atlantic Coastal Acquisition Corp. Ii   Nasdaq\n",
       "12138  0001902733   NCNO                            Ncino, Inc.   Nasdaq\n",
       "12157  0001913971   BPRN                Princeton Bancorp, Inc.   Nasdaq\n",
       "12160  0001915657   DINO                       Hf Sinclair Corp     NYSE\n",
       "\n",
       "[4002 rows x 4 columns]"
      ]
     },
     "execution_count": 67,
     "metadata": {},
     "output_type": "execute_result"
    }
   ],
   "source": [
    "result_df"
   ]
  },
  {
   "cell_type": "code",
   "execution_count": 68,
   "metadata": {},
   "outputs": [
    {
     "data": {
      "text/html": [
       "<div>\n",
       "<style scoped>\n",
       "    .dataframe tbody tr th:only-of-type {\n",
       "        vertical-align: middle;\n",
       "    }\n",
       "\n",
       "    .dataframe tbody tr th {\n",
       "        vertical-align: top;\n",
       "    }\n",
       "\n",
       "    .dataframe thead th {\n",
       "        text-align: right;\n",
       "    }\n",
       "</style>\n",
       "<table border=\"1\" class=\"dataframe\">\n",
       "  <thead>\n",
       "    <tr style=\"text-align: right;\">\n",
       "      <th></th>\n",
       "      <th>CIK</th>\n",
       "      <th>Ticker</th>\n",
       "      <th>Name</th>\n",
       "      <th>Exchange</th>\n",
       "    </tr>\n",
       "  </thead>\n",
       "  <tbody>\n",
       "    <tr>\n",
       "      <th>7456</th>\n",
       "      <td>0001652044</td>\n",
       "      <td>GOOG</td>\n",
       "      <td>Alphabet Inc.</td>\n",
       "      <td>Nasdaq</td>\n",
       "    </tr>\n",
       "    <tr>\n",
       "      <th>7457</th>\n",
       "      <td>0001652044</td>\n",
       "      <td>GOOGL</td>\n",
       "      <td>Alphabet Inc.</td>\n",
       "      <td>Nasdaq</td>\n",
       "    </tr>\n",
       "  </tbody>\n",
       "</table>\n",
       "</div>"
      ],
      "text/plain": [
       "             CIK Ticker           Name Exchange\n",
       "7456  0001652044   GOOG  Alphabet Inc.   Nasdaq\n",
       "7457  0001652044  GOOGL  Alphabet Inc.   Nasdaq"
      ]
     },
     "execution_count": 68,
     "metadata": {},
     "output_type": "execute_result"
    }
   ],
   "source": [
    "# ALpabet 검색\n",
    "result_df.query('Ticker.str.contains(\"GOOG\")', engine='python')"
   ]
  },
  {
   "cell_type": "code",
   "execution_count": 69,
   "metadata": {},
   "outputs": [
    {
     "data": {
      "text/html": [
       "<div>\n",
       "<style scoped>\n",
       "    .dataframe tbody tr th:only-of-type {\n",
       "        vertical-align: middle;\n",
       "    }\n",
       "\n",
       "    .dataframe tbody tr th {\n",
       "        vertical-align: top;\n",
       "    }\n",
       "\n",
       "    .dataframe thead th {\n",
       "        text-align: right;\n",
       "    }\n",
       "</style>\n",
       "<table border=\"1\" class=\"dataframe\">\n",
       "  <thead>\n",
       "    <tr style=\"text-align: right;\">\n",
       "      <th></th>\n",
       "      <th>CIK</th>\n",
       "      <th>Ticker</th>\n",
       "      <th>Name</th>\n",
       "      <th>Exchange</th>\n",
       "    </tr>\n",
       "  </thead>\n",
       "  <tbody>\n",
       "    <tr>\n",
       "      <th>2853</th>\n",
       "      <td>0001049782</td>\n",
       "      <td>BRKL</td>\n",
       "      <td>Brookline Bancorp Inc</td>\n",
       "      <td>Nasdaq</td>\n",
       "    </tr>\n",
       "    <tr>\n",
       "      <th>3002</th>\n",
       "      <td>0001067983</td>\n",
       "      <td>BRK-A</td>\n",
       "      <td>Berkshire Hathaway Inc</td>\n",
       "      <td>NYSE</td>\n",
       "    </tr>\n",
       "    <tr>\n",
       "      <th>3003</th>\n",
       "      <td>0001067983</td>\n",
       "      <td>BRK-B</td>\n",
       "      <td>Berkshire Hathaway Inc</td>\n",
       "      <td>NYSE</td>\n",
       "    </tr>\n",
       "    <tr>\n",
       "      <th>3323</th>\n",
       "      <td>0001109354</td>\n",
       "      <td>BRKR</td>\n",
       "      <td>Bruker Corp</td>\n",
       "      <td>Nasdaq</td>\n",
       "    </tr>\n",
       "    <tr>\n",
       "      <th>11803</th>\n",
       "      <td>0001871638</td>\n",
       "      <td>BRKH</td>\n",
       "      <td>Burtech Acquisition Corp.</td>\n",
       "      <td>Nasdaq</td>\n",
       "    </tr>\n",
       "    <tr>\n",
       "      <th>11804</th>\n",
       "      <td>0001871638</td>\n",
       "      <td>BRKHU</td>\n",
       "      <td>Burtech Acquisition Corp.</td>\n",
       "      <td>Nasdaq</td>\n",
       "    </tr>\n",
       "    <tr>\n",
       "      <th>11805</th>\n",
       "      <td>0001871638</td>\n",
       "      <td>BRKHW</td>\n",
       "      <td>Burtech Acquisition Corp.</td>\n",
       "      <td>Nasdaq</td>\n",
       "    </tr>\n",
       "  </tbody>\n",
       "</table>\n",
       "</div>"
      ],
      "text/plain": [
       "              CIK Ticker                       Name Exchange\n",
       "2853   0001049782   BRKL      Brookline Bancorp Inc   Nasdaq\n",
       "3002   0001067983  BRK-A     Berkshire Hathaway Inc     NYSE\n",
       "3003   0001067983  BRK-B     Berkshire Hathaway Inc     NYSE\n",
       "3323   0001109354   BRKR                Bruker Corp   Nasdaq\n",
       "11803  0001871638   BRKH  Burtech Acquisition Corp.   Nasdaq\n",
       "11804  0001871638  BRKHU  Burtech Acquisition Corp.   Nasdaq\n",
       "11805  0001871638  BRKHW  Burtech Acquisition Corp.   Nasdaq"
      ]
     },
     "execution_count": 69,
     "metadata": {},
     "output_type": "execute_result"
    }
   ],
   "source": [
    "# Berkshire Hathaway Inc \n",
    "mapper.query('Ticker.str.contains(\"BRK\")', engine='python')"
   ]
  },
  {
   "cell_type": "code",
   "execution_count": 70,
   "metadata": {},
   "outputs": [
    {
     "data": {
      "text/html": [
       "<div>\n",
       "<style scoped>\n",
       "    .dataframe tbody tr th:only-of-type {\n",
       "        vertical-align: middle;\n",
       "    }\n",
       "\n",
       "    .dataframe tbody tr th {\n",
       "        vertical-align: top;\n",
       "    }\n",
       "\n",
       "    .dataframe thead th {\n",
       "        text-align: right;\n",
       "    }\n",
       "</style>\n",
       "<table border=\"1\" class=\"dataframe\">\n",
       "  <thead>\n",
       "    <tr style=\"text-align: right;\">\n",
       "      <th></th>\n",
       "      <th>CIK</th>\n",
       "      <th>Ticker</th>\n",
       "      <th>Name</th>\n",
       "      <th>Exchange</th>\n",
       "    </tr>\n",
       "  </thead>\n",
       "  <tbody>\n",
       "    <tr>\n",
       "      <th>3002</th>\n",
       "      <td>0001067983</td>\n",
       "      <td>BRK-A</td>\n",
       "      <td>Berkshire Hathaway Inc</td>\n",
       "      <td>NYSE</td>\n",
       "    </tr>\n",
       "    <tr>\n",
       "      <th>3003</th>\n",
       "      <td>0001067983</td>\n",
       "      <td>BRK-B</td>\n",
       "      <td>Berkshire Hathaway Inc</td>\n",
       "      <td>NYSE</td>\n",
       "    </tr>\n",
       "  </tbody>\n",
       "</table>\n",
       "</div>"
      ],
      "text/plain": [
       "             CIK Ticker                    Name Exchange\n",
       "3002  0001067983  BRK-A  Berkshire Hathaway Inc     NYSE\n",
       "3003  0001067983  BRK-B  Berkshire Hathaway Inc     NYSE"
      ]
     },
     "execution_count": 70,
     "metadata": {},
     "output_type": "execute_result"
    }
   ],
   "source": [
    "# Berkshire Hathaway Inc\n",
    "# BRK/A BRK/B 추가\n",
    "\n",
    "brk_df = mapper[mapper['Name'] == 'Berkshire Hathaway Inc']\n",
    "brk_df"
   ]
  },
  {
   "cell_type": "code",
   "execution_count": 73,
   "metadata": {},
   "outputs": [],
   "source": [
    "for idx in range(len(brk_df)):\n",
    "    row = brk_df.iloc[idx]\n",
    "    result_df = pd.concat([pd.DataFrame([row], columns=result_df.columns), result_df], ignore_index=True)"
   ]
  },
  {
   "cell_type": "code",
   "execution_count": 74,
   "metadata": {},
   "outputs": [
    {
     "data": {
      "text/html": [
       "<div>\n",
       "<style scoped>\n",
       "    .dataframe tbody tr th:only-of-type {\n",
       "        vertical-align: middle;\n",
       "    }\n",
       "\n",
       "    .dataframe tbody tr th {\n",
       "        vertical-align: top;\n",
       "    }\n",
       "\n",
       "    .dataframe thead th {\n",
       "        text-align: right;\n",
       "    }\n",
       "</style>\n",
       "<table border=\"1\" class=\"dataframe\">\n",
       "  <thead>\n",
       "    <tr style=\"text-align: right;\">\n",
       "      <th></th>\n",
       "      <th>CIK</th>\n",
       "      <th>Ticker</th>\n",
       "      <th>Name</th>\n",
       "      <th>Exchange</th>\n",
       "    </tr>\n",
       "  </thead>\n",
       "  <tbody>\n",
       "    <tr>\n",
       "      <th>0</th>\n",
       "      <td>0001067983</td>\n",
       "      <td>BRK-B</td>\n",
       "      <td>Berkshire Hathaway Inc</td>\n",
       "      <td>NYSE</td>\n",
       "    </tr>\n",
       "    <tr>\n",
       "      <th>1</th>\n",
       "      <td>0001067983</td>\n",
       "      <td>BRK-A</td>\n",
       "      <td>Berkshire Hathaway Inc</td>\n",
       "      <td>NYSE</td>\n",
       "    </tr>\n",
       "    <tr>\n",
       "      <th>2</th>\n",
       "      <td>0000001750</td>\n",
       "      <td>AIR</td>\n",
       "      <td>Aar Corp</td>\n",
       "      <td>NYSE</td>\n",
       "    </tr>\n",
       "    <tr>\n",
       "      <th>3</th>\n",
       "      <td>0000001800</td>\n",
       "      <td>ABT</td>\n",
       "      <td>Abbott Laboratories</td>\n",
       "      <td>NYSE</td>\n",
       "    </tr>\n",
       "    <tr>\n",
       "      <th>4</th>\n",
       "      <td>0000002488</td>\n",
       "      <td>AMD</td>\n",
       "      <td>Advanced Micro Devices Inc</td>\n",
       "      <td>Nasdaq</td>\n",
       "    </tr>\n",
       "    <tr>\n",
       "      <th>...</th>\n",
       "      <td>...</td>\n",
       "      <td>...</td>\n",
       "      <td>...</td>\n",
       "      <td>...</td>\n",
       "    </tr>\n",
       "    <tr>\n",
       "      <th>3999</th>\n",
       "      <td>0001892322</td>\n",
       "      <td>HTCR</td>\n",
       "      <td>Heartcore Enterprises, Inc.</td>\n",
       "      <td>Nasdaq</td>\n",
       "    </tr>\n",
       "    <tr>\n",
       "      <th>4000</th>\n",
       "      <td>0001893219</td>\n",
       "      <td>ACAB</td>\n",
       "      <td>Atlantic Coastal Acquisition Corp. Ii</td>\n",
       "      <td>Nasdaq</td>\n",
       "    </tr>\n",
       "    <tr>\n",
       "      <th>4001</th>\n",
       "      <td>0001902733</td>\n",
       "      <td>NCNO</td>\n",
       "      <td>Ncino, Inc.</td>\n",
       "      <td>Nasdaq</td>\n",
       "    </tr>\n",
       "    <tr>\n",
       "      <th>4002</th>\n",
       "      <td>0001913971</td>\n",
       "      <td>BPRN</td>\n",
       "      <td>Princeton Bancorp, Inc.</td>\n",
       "      <td>Nasdaq</td>\n",
       "    </tr>\n",
       "    <tr>\n",
       "      <th>4003</th>\n",
       "      <td>0001915657</td>\n",
       "      <td>DINO</td>\n",
       "      <td>Hf Sinclair Corp</td>\n",
       "      <td>NYSE</td>\n",
       "    </tr>\n",
       "  </tbody>\n",
       "</table>\n",
       "<p>4004 rows × 4 columns</p>\n",
       "</div>"
      ],
      "text/plain": [
       "             CIK Ticker                                   Name Exchange\n",
       "0     0001067983  BRK-B                 Berkshire Hathaway Inc     NYSE\n",
       "1     0001067983  BRK-A                 Berkshire Hathaway Inc     NYSE\n",
       "2     0000001750    AIR                               Aar Corp     NYSE\n",
       "3     0000001800    ABT                    Abbott Laboratories     NYSE\n",
       "4     0000002488    AMD             Advanced Micro Devices Inc   Nasdaq\n",
       "...          ...    ...                                    ...      ...\n",
       "3999  0001892322   HTCR            Heartcore Enterprises, Inc.   Nasdaq\n",
       "4000  0001893219   ACAB  Atlantic Coastal Acquisition Corp. Ii   Nasdaq\n",
       "4001  0001902733   NCNO                            Ncino, Inc.   Nasdaq\n",
       "4002  0001913971   BPRN                Princeton Bancorp, Inc.   Nasdaq\n",
       "4003  0001915657   DINO                       Hf Sinclair Corp     NYSE\n",
       "\n",
       "[4004 rows x 4 columns]"
      ]
     },
     "execution_count": 74,
     "metadata": {},
     "output_type": "execute_result"
    }
   ],
   "source": [
    "result_df"
   ]
  },
  {
   "cell_type": "code",
   "execution_count": 78,
   "metadata": {},
   "outputs": [],
   "source": [
    "result_df['CIK'] = result_df['CIK'].astype(str)"
   ]
  },
  {
   "cell_type": "code",
   "execution_count": 79,
   "metadata": {},
   "outputs": [
    {
     "data": {
      "text/plain": [
       "3979"
      ]
     },
     "execution_count": 79,
     "metadata": {},
     "output_type": "execute_result"
    }
   ],
   "source": [
    "# UNIQUE CIK\n",
    "len(result_df['CIK'].unique())"
   ]
  },
  {
   "cell_type": "code",
   "execution_count": 80,
   "metadata": {},
   "outputs": [],
   "source": [
    "csv_path = \"./cik_info.csv\"\n",
    "result_df.to_csv(csv_path, index=None)"
   ]
  },
  {
   "cell_type": "code",
   "execution_count": null,
   "metadata": {},
   "outputs": [],
   "source": []
  }
 ],
 "metadata": {
  "kernelspec": {
   "display_name": "Python 3",
   "language": "python",
   "name": "python3"
  },
  "language_info": {
   "codemirror_mode": {
    "name": "ipython",
    "version": 3
   },
   "file_extension": ".py",
   "mimetype": "text/x-python",
   "name": "python",
   "nbconvert_exporter": "python",
   "pygments_lexer": "ipython3",
   "version": "3.8.5"
  }
 },
 "nbformat": 4,
 "nbformat_minor": 4
}
